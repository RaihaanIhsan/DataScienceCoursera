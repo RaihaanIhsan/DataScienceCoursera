{
  "metadata": {
    "kernelspec": {
      "name": "python",
      "display_name": "Python (Pyodide)",
      "language": "python"
    },
    "language_info": {
      "codemirror_mode": {
        "name": "python",
        "version": 3
      },
      "file_extension": ".py",
      "mimetype": "text/x-python",
      "name": "python",
      "nbconvert_exporter": "python",
      "pygments_lexer": "ipython3",
      "version": "3.8"
    }
  },
  "nbformat_minor": 5,
  "nbformat": 4,
  "cells": [
    {
      "id": "5ebabbc1-8eb8-4d1f-8ac5-62fd393ff02c",
      "cell_type": "code",
      "source": "Exercise 2: Create markdown cell with title of the notebook",
      "metadata": {
        "trusted": true
      },
      "outputs": [],
      "execution_count": null
    },
    {
      "id": "2887a7d5-e372-43b9-ad94-10eddd37e021",
      "cell_type": "markdown",
      "source": "# Data Science Tools and Ecosystem",
      "metadata": {}
    },
    {
      "id": "5ac217a6-1862-4ae1-b07f-325dda8192f6",
      "cell_type": "markdown",
      "source": "In this notebook, Data Science Tools and Ecosystem are summarized.",
      "metadata": {}
    },
    {
      "id": "88b333b3-dfb1-4b97-8eae-011fe4d673ca",
      "cell_type": "markdown",
      "source": "**Objective:**\nTo learn datascience\nList popular languages for Data Science\n-R\n-Python\n-SQL",
      "metadata": {}
    },
    {
      "id": "7f0dfc4e-c4c0-432f-b6ce-f4e532d5e703",
      "cell_type": "markdown",
      "source": "Some of the popular languages that Data Scientists use are:\n1. Python\n2. R\n3. SQL",
      "metadata": {}
    },
    {
      "id": "e209bf64-342c-4152-85ae-8ee84714fb63",
      "cell_type": "markdown",
      "source": "Some of the commonly used libraries used by Data Scientists include:\n1. Seaborn\n2. Numpy\n3. Matplotlib",
      "metadata": {}
    },
    {
      "id": "298ca11c-2579-4050-97f0-a7be35e527dd",
      "cell_type": "markdown",
      "source": "| Data Science Tools |\n|--------------------|\n|Jupyter Notebook    |\n|Jupyter Lab         |\n|Google Colab        |",
      "metadata": {}
    },
    {
      "id": "cc79d0ea-eefb-42b2-89de-25d43576b846",
      "cell_type": "markdown",
      "source": "### Below are a few examples of evaluating arithmetic expressions in Python",
      "metadata": {}
    },
    {
      "id": "06ae8da4-5dfe-4160-b57b-c5375de33708",
      "cell_type": "code",
      "source": "#This a simple arithmetic expression to mutiply then add integers\n(3*4)+5",
      "metadata": {
        "trusted": true
      },
      "outputs": [
        {
          "execution_count": 4,
          "output_type": "execute_result",
          "data": {
            "text/plain": "17"
          },
          "metadata": {}
        }
      ],
      "execution_count": 4
    },
    {
      "id": "88fc9bcf-4ed1-4f71-9ae8-006004b375d1",
      "cell_type": "code",
      "source": "#This will convert 200 minutes to hours by diving by 60\n200/60",
      "metadata": {
        "trusted": true
      },
      "outputs": [],
      "execution_count": null
    },
    {
      "id": "4cf46b5f-df8e-4d6c-94ab-ecd671b21d54",
      "cell_type": "markdown",
      "source": "## Author\nFathima Raihaan Ihsan",
      "metadata": {}
    }
  ]
}